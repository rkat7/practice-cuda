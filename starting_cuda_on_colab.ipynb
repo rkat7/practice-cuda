{
  "nbformat": 4,
  "nbformat_minor": 0,
  "metadata": {
    "colab": {
      "provenance": [],
      "gpuType": "T4",
      "mount_file_id": "1UNwYqlZHZsxZSywdPP7nxLrPCGtLdwFb",
      "authorship_tag": "ABX9TyObGJT8/P8LXe9iETZOW84F",
      "include_colab_link": true
    },
    "kernelspec": {
      "name": "python3",
      "display_name": "Python 3"
    },
    "language_info": {
      "name": "python"
    },
    "accelerator": "GPU"
  },
  "cells": [
    {
      "cell_type": "markdown",
      "metadata": {
        "id": "view-in-github",
        "colab_type": "text"
      },
      "source": [
        "<a href=\"https://colab.research.google.com/github/rkat7/practice-cuda/blob/main/starting_cuda_on_colab.ipynb\" target=\"_parent\"><img src=\"https://colab.research.google.com/assets/colab-badge.svg\" alt=\"Open In Colab\"/></a>"
      ]
    },
    {
      "cell_type": "code",
      "execution_count": 11,
      "metadata": {
        "colab": {
          "base_uri": "https://localhost:8080/",
          "height": 143
        },
        "id": "k5nFwFvVITt0",
        "outputId": "dde57074-0b3f-4103-8a39-cc858f325e7a"
      },
      "outputs": [
        {
          "output_type": "stream",
          "name": "stdout",
          "text": [
            "/content/drive/MyDrive\n",
            "[Errno 2] No such file or directory: 'drive'\n",
            "/content/drive/MyDrive\n",
            "[Errno 2] No such file or directory: 'MyDrive'\n",
            "/content/drive/MyDrive\n",
            "/content/drive/MyDrive/practice-cuda\n"
          ]
        },
        {
          "output_type": "execute_result",
          "data": {
            "text/plain": [
              "'/content/drive/MyDrive/practice-cuda'"
            ],
            "application/vnd.google.colaboratory.intrinsic+json": {
              "type": "string"
            }
          },
          "metadata": {},
          "execution_count": 11
        }
      ],
      "source": [
        "!pwd\n",
        "%cd drive\n",
        "#applying the cd to the entire notebook using %\n",
        "%cd MyDrive\n",
        "%mkdir practice-cuda\n",
        "%cd practice-cuda\n",
        "%pwd\n",
        "\n"
      ]
    },
    {
      "cell_type": "code",
      "source": [
        "!which nvcc #checking if cuda compiler is installed/present in the environment\n",
        "!ls -l /dev/nv* #Checking if an Nvidia gpu is mounted to current colab environment"
      ],
      "metadata": {
        "colab": {
          "base_uri": "https://localhost:8080/"
        },
        "id": "2eNGcpV0KeEN",
        "outputId": "4221492e-6cec-4632-d5e4-d06a1d66f30c"
      },
      "execution_count": 15,
      "outputs": [
        {
          "output_type": "stream",
          "name": "stdout",
          "text": [
            "/usr/local/cuda/bin/nvcc\n",
            "crw-rw-rw- 1 root root 195,   0 Feb 12 03:13 /dev/nvidia0\n",
            "crw-rw-rw- 1 root root 195, 255 Feb 12 03:13 /dev/nvidiactl\n",
            "crw-rw-rw- 1 root root 241,   0 Feb 12 03:13 /dev/nvidia-uvm\n",
            "crw-rw-rw- 1 root root 241,   1 Feb 12 03:13 /dev/nvidia-uvm-tools\n",
            "\n",
            "/dev/nvidia-caps:\n",
            "total 0\n",
            "cr-------- 1 root root 244, 1 Feb 12 03:13 nvidia-cap1\n",
            "cr--r--r-- 1 root root 244, 2 Feb 12 03:13 nvidia-cap2\n"
          ]
        }
      ]
    },
    {
      "cell_type": "code",
      "source": [
        "!nvcc test.cu -o test"
      ],
      "metadata": {
        "id": "6HGdckBMNEG0"
      },
      "execution_count": 16,
      "outputs": []
    },
    {
      "cell_type": "code",
      "source": [
        "!./test"
      ],
      "metadata": {
        "colab": {
          "base_uri": "https://localhost:8080/"
        },
        "id": "-55W806aNK9e",
        "outputId": "007e7d7f-688a-429a-dcb5-e31ea617ac8a"
      },
      "execution_count": 18,
      "outputs": [
        {
          "output_type": "stream",
          "name": "stdout",
          "text": [
            "Hello from CPU! \n"
          ]
        }
      ]
    }
  ]
}
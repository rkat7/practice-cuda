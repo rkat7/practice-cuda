{
  "nbformat": 4,
  "nbformat_minor": 0,
  "metadata": {
    "colab": {
      "provenance": [],
      "gpuType": "T4",
      "include_colab_link": true
    },
    "kernelspec": {
      "name": "python3",
      "display_name": "Python 3"
    },
    "language_info": {
      "name": "python"
    },
    "accelerator": "GPU"
  },
  "cells": [
    {
      "cell_type": "markdown",
      "metadata": {
        "id": "view-in-github",
        "colab_type": "text"
      },
      "source": [
        "<a href=\"https://colab.research.google.com/github/rkat7/practice-cuda/blob/main/starting_cuda_on_colab.ipynb\" target=\"_parent\"><img src=\"https://colab.research.google.com/assets/colab-badge.svg\" alt=\"Open In Colab\"/></a>"
      ]
    },
    {
      "cell_type": "code",
      "execution_count": null,
      "metadata": {
        "colab": {
          "base_uri": "https://localhost:8080/",
          "height": 143
        },
        "id": "k5nFwFvVITt0",
        "outputId": "dde57074-0b3f-4103-8a39-cc858f325e7a"
      },
      "outputs": [
        {
          "output_type": "stream",
          "name": "stdout",
          "text": [
            "/content/drive/MyDrive\n",
            "[Errno 2] No such file or directory: 'drive'\n",
            "/content/drive/MyDrive\n",
            "[Errno 2] No such file or directory: 'MyDrive'\n",
            "/content/drive/MyDrive\n",
            "/content/drive/MyDrive/practice-cuda\n"
          ]
        },
        {
          "output_type": "execute_result",
          "data": {
            "text/plain": [
              "'/content/drive/MyDrive/practice-cuda'"
            ],
            "application/vnd.google.colaboratory.intrinsic+json": {
              "type": "string"
            }
          },
          "metadata": {},
          "execution_count": 11
        }
      ],
      "source": [
        "!pwd\n",
        "%cd drive\n",
        "#applying the cd to the entire notebook using %\n",
        "%cd MyDrive\n",
        "%mkdir practice-cuda\n",
        "%cd practice-cuda\n",
        "%pwd\n",
        "\n"
      ]
    },
    {
      "cell_type": "code",
      "source": [
        "!which nvcc #checking if cuda compiler is installed/present in the environment\n",
        "!ls -l /dev/nv* #Checking if an Nvidia gpu is mounted to current colab environment"
      ],
      "metadata": {
        "colab": {
          "base_uri": "https://localhost:8080/"
        },
        "id": "2eNGcpV0KeEN",
        "outputId": "4221492e-6cec-4632-d5e4-d06a1d66f30c"
      },
      "execution_count": null,
      "outputs": [
        {
          "output_type": "stream",
          "name": "stdout",
          "text": [
            "/usr/local/cuda/bin/nvcc\n",
            "crw-rw-rw- 1 root root 195,   0 Feb 12 03:13 /dev/nvidia0\n",
            "crw-rw-rw- 1 root root 195, 255 Feb 12 03:13 /dev/nvidiactl\n",
            "crw-rw-rw- 1 root root 241,   0 Feb 12 03:13 /dev/nvidia-uvm\n",
            "crw-rw-rw- 1 root root 241,   1 Feb 12 03:13 /dev/nvidia-uvm-tools\n",
            "\n",
            "/dev/nvidia-caps:\n",
            "total 0\n",
            "cr-------- 1 root root 244, 1 Feb 12 03:13 nvidia-cap1\n",
            "cr--r--r-- 1 root root 244, 2 Feb 12 03:13 nvidia-cap2\n"
          ]
        }
      ]
    },
    {
      "cell_type": "code",
      "source": [
        "!nvcc test.cu -o test"
      ],
      "metadata": {
        "id": "6HGdckBMNEG0"
      },
      "execution_count": null,
      "outputs": []
    },
    {
      "cell_type": "code",
      "source": [
        "!./test"
      ],
      "metadata": {
        "colab": {
          "base_uri": "https://localhost:8080/"
        },
        "id": "-55W806aNK9e",
        "outputId": "007e7d7f-688a-429a-dcb5-e31ea617ac8a"
      },
      "execution_count": null,
      "outputs": [
        {
          "output_type": "stream",
          "name": "stdout",
          "text": [
            "Hello from CPU! \n"
          ]
        }
      ]
    },
    {
      "cell_type": "code",
      "source": [
        "!nvidia-smi"
      ],
      "metadata": {
        "id": "9QT7L5WDxFhY",
        "outputId": "f288e0d0-0a2b-45ba-f06d-0b39fde22511",
        "colab": {
          "base_uri": "https://localhost:8080/"
        }
      },
      "execution_count": 1,
      "outputs": [
        {
          "output_type": "stream",
          "name": "stdout",
          "text": [
            "Mon Sep 15 04:27:19 2025       \n",
            "+-----------------------------------------------------------------------------------------+\n",
            "| NVIDIA-SMI 550.54.15              Driver Version: 550.54.15      CUDA Version: 12.4     |\n",
            "|-----------------------------------------+------------------------+----------------------+\n",
            "| GPU  Name                 Persistence-M | Bus-Id          Disp.A | Volatile Uncorr. ECC |\n",
            "| Fan  Temp   Perf          Pwr:Usage/Cap |           Memory-Usage | GPU-Util  Compute M. |\n",
            "|                                         |                        |               MIG M. |\n",
            "|=========================================+========================+======================|\n",
            "|   0  Tesla T4                       Off |   00000000:00:04.0 Off |                    0 |\n",
            "| N/A   55C    P8             10W /   70W |       0MiB /  15360MiB |      0%      Default |\n",
            "|                                         |                        |                  N/A |\n",
            "+-----------------------------------------+------------------------+----------------------+\n",
            "                                                                                         \n",
            "+-----------------------------------------------------------------------------------------+\n",
            "| Processes:                                                                              |\n",
            "|  GPU   GI   CI        PID   Type   Process name                              GPU Memory |\n",
            "|        ID   ID                                                               Usage      |\n",
            "|=========================================================================================|\n",
            "|  No running processes found                                                             |\n",
            "+-----------------------------------------------------------------------------------------+\n"
          ]
        }
      ]
    },
    {
      "cell_type": "code",
      "source": [
        "# CUDA device global memory management APIs:\n",
        "\n",
        "#cudaMalloc()\n",
        "#cudaFree()\n",
        "\n",
        "%%writefile device_mem_sample.cu\n",
        "#include <stdio.h>\n",
        "\n",
        "int main(){\n",
        "\n",
        "float *A_d;\n",
        "int size = 4 * sizeof(float);\n",
        "\n",
        "cudaMalloc((void**) &A_d, size);\n",
        "\n",
        "//some computations\n",
        "cudaFree(A_d);\n",
        "\n",
        "return 0;\n",
        "}\n"
      ],
      "metadata": {
        "id": "vEIuGcVwxFkv",
        "outputId": "2709e4ac-00a0-42cf-e561-15539414157f",
        "colab": {
          "base_uri": "https://localhost:8080/"
        }
      },
      "execution_count": 4,
      "outputs": [
        {
          "output_type": "stream",
          "name": "stdout",
          "text": [
            "Overwriting device_mem_sample.cu\n"
          ]
        }
      ]
    },
    {
      "cell_type": "code",
      "source": [
        "!nvcc device_mem_sample.cu -o device_mem_sample"
      ],
      "metadata": {
        "id": "2BNByDSvxFnn"
      },
      "execution_count": 5,
      "outputs": []
    },
    {
      "cell_type": "code",
      "source": [
        "!./device_mem_sample"
      ],
      "metadata": {
        "id": "GNH-zZnMxFqb"
      },
      "execution_count": 7,
      "outputs": []
    }
  ]
}